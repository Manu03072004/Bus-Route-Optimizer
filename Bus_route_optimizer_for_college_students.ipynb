{
 "cells": [
  {
   "cell_type": "code",
   "execution_count": null,
   "metadata": {
    "colab": {
     "base_uri": "https://localhost:8080/",
     "height": 842,
     "referenced_widgets": [
      "a6d436d531c04c74831ace38b59027a5",
      "e2f7b3b971c74be69fb899fe10fd4887",
      "3a8bd5ea67494bc8be38aa1e7f125729",
      "57cc51775c75475b9e74b42a86ca56c1",
      "8bc259fd68d1476ba29a6464ee0cc42b",
      "370313e9798544f1bed4b972f6add7a7"
     ]
    },
    "id": "JAu04gsIExo6",
    "outputId": "d31c4f9e-808b-4949-bae6-02c2405505bc"
   },
   "outputs": [],
   "source": [
    "# 📦 Install required packages (if needed)\n",
    "!pip install pandas folium openrouteservice ipywidgets --quiet\n",
    "from google.colab import output\n",
    "output.enable_custom_widget_manager()\n",
    "\n",
    "# 📚 Imports & Setup\n",
    "import pandas as pd, folium, openrouteservice, ipywidgets as widgets\n",
    "from IPython.display import display\n",
    "from openrouteservice import convert\n",
    "\n",
    "# 🔑 API key (replace if needed)\n",
    "api_key = 'eyJvcmciOiI1YjNjZTM1OTc4NTExMTAwMDFjZjYyNDgiLCJpZCI6IjliNWQ5OWE0ZWY4MjRmN2VhMmZkZGVmZDY4NThiZTQyIiwiaCI6Im11cm11cjY0In0='\n",
    "client = openrouteservice.Client(key=api_key)\n",
    "\n",
    "# 🗂️ Load data\n",
    "df = pd.read_csv(\"updated_cities_and_colleges.csv\")\n",
    "cities, colleges = df[df.Type == 'City'], df[df.Type == 'College']\n",
    "\n",
    "# 💰 Fare logic\n",
    "fare = lambda d: max(1.2 * d, 10)\n",
    "\n",
    "# 🎛️ UI dropdowns\n",
    "dropdowns = {\n",
    "    'City': widgets.Dropdown(options=cities.Name.tolist(), description='City:', layout=widgets.Layout(width='50%')),\n",
    "    'College': widgets.Dropdown(options=colleges.Name.tolist(), description='College:', layout=widgets.Layout(width='50%'))\n",
    "}\n",
    "\n",
    "# 🧭 Route & Map logic\n",
    "def on_change(change=None):\n",
    "    start = df[df.Name == dropdowns['City'].value].iloc[0]\n",
    "    end = df[df.Name == dropdowns['College'].value].iloc[0]\n",
    "    coords = ((start.Longitude, start.Latitude), (end.Longitude, end.Latitude))\n",
    "\n",
    "    try:\n",
    "        r = client.directions(coords, profile='driving-car', format='geojson')\n",
    "        geo = r['features'][0]['geometry']['coordinates']\n",
    "        dist = r['features'][0]['properties']['summary']['distance'] / 1000\n",
    "    except Exception as e:\n",
    "        print(\"⚠️ Route error:\", e)\n",
    "        return\n",
    "\n",
    "    print(f\"\\n🚏 {start.Name} ➡ {end.Name}\\nDistance: {dist:.2f} km\\nFare: ₹{fare(dist):.2f}\")\n",
    "\n",
    "    # Create map\n",
    "    m = folium.Map(location=[(start.Latitude + end.Latitude)/2, (start.Longitude + end.Longitude)/2], zoom_start=12)\n",
    "\n",
    "    # Start & End markers\n",
    "    folium.Marker([start.Latitude, start.Longitude], popup=start.Name, icon=folium.Icon(color='blue')).add_to(m)\n",
    "    folium.Marker([end.Latitude, end.Longitude], popup=end.Name, icon=folium.Icon(color='green')).add_to(m)\n",
    "\n",
    "    # Draw route\n",
    "    latlon_coords = [(y, x) for x, y in geo]\n",
    "    folium.PolyLine(latlon_coords, color='red', weight=5).add_to(m)\n",
    "\n",
    "    # Add orange markers with reverse geocoded names\n",
    "    num_markers = 5\n",
    "    step = len(latlon_coords) // (num_markers + 1)\n",
    "    for i in range(1, num_markers + 1):\n",
    "        point = latlon_coords[i * step]\n",
    "        try:\n",
    "            loc_info = client.pelias_reverse(point[::-1])  # (lon, lat)\n",
    "            name = loc_info['features'][0]['properties'].get('name', 'Unknown')\n",
    "        except:\n",
    "            name = f\"Point {i}\"\n",
    "        folium.Marker(location=point, icon=folium.Icon(color='orange'), popup=name).add_to(m)\n",
    "\n",
    "    display(m)\n",
    "\n",
    "# 🚦 Activate\n",
    "display(dropdowns['City'], dropdowns['College'])\n",
    "dropdowns['City'].observe(on_change, names='value')\n",
    "dropdowns['College'].observe(on_change, names='value')\n",
    "on_change()\n"
   ]
  }
 ],
 "metadata": {
  "colab": {
   "provenance": []
  },
  "kernelspec": {
   "display_name": "Python 3",
   "name": "python3"
  },
  "language_info": {
   "name": "python"
  }
 },
 "nbformat": 4,
 "nbformat_minor": 0
}
